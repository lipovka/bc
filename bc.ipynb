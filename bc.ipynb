{
 "cells": [
  {
   "cell_type": "code",
   "execution_count": 2,
   "metadata": {
    "collapsed": true
   },
   "outputs": [],
   "source": [
    "import pandas as pd\n",
    "\n",
    "from sklearn import  linear_model\n",
    "from scipy.stats import pearsonr\n",
    "import matplotlib.pyplot as plt\n",
    "#from adjustText import adjust_text"
   ]
  },
  {
   "cell_type": "code",
   "execution_count": 5,
   "outputs": [],
   "source": [
    "ds = pd.read_csv('bc_data.csv')"
   ],
   "metadata": {
    "collapsed": false
   }
  },
  {
   "cell_type": "code",
   "execution_count": 6,
   "outputs": [
    {
     "data": {
      "text/plain": "    number  thick_u\"  thick_d  max_stress  max_strain\n0        1      1.00     0.95    0.147825    1.058458\n1        2      1.02     0.95    0.423079    1.147268\n2        3      1.06     0.92    0.389864    1.125863\n3        4      1.18     1.28    0.280254    1.154111\n4        5      0.89     0.96    0.146713    1.096795\n5        6      1.02     0.96    0.263464    1.090337\n6        7      0.89     0.97    0.381180    1.113647\n7        8      1.21     1.12    0.360351    1.173611\n8        9      1.14     1.11    0.292207    1.133816\n9       10      0.97     1.02    0.407108    1.141411\n10      11      1.25     1.19    0.204433    1.085768\n11      13      1.15     1.13    0.482587    1.170121\n12      14      1.12     1.15    0.223130    1.110500\n13      15      1.11     1.14    0.376250    1.194511\n14      16      1.04     1.18    0.466562    1.169326\n15      17      1.13     1.22    0.410243    1.140358\n16      18      0.88     0.96    0.485426    1.163489\n17      19      0.91     0.95    0.485247    1.174111\n18      20      0.91     0.91    0.569973    1.183558",
      "text/html": "<div>\n<style scoped>\n    .dataframe tbody tr th:only-of-type {\n        vertical-align: middle;\n    }\n\n    .dataframe tbody tr th {\n        vertical-align: top;\n    }\n\n    .dataframe thead th {\n        text-align: right;\n    }\n</style>\n<table border=\"1\" class=\"dataframe\">\n  <thead>\n    <tr style=\"text-align: right;\">\n      <th></th>\n      <th>number</th>\n      <th>thick_u\"</th>\n      <th>thick_d</th>\n      <th>max_stress</th>\n      <th>max_strain</th>\n    </tr>\n  </thead>\n  <tbody>\n    <tr>\n      <th>0</th>\n      <td>1</td>\n      <td>1.00</td>\n      <td>0.95</td>\n      <td>0.147825</td>\n      <td>1.058458</td>\n    </tr>\n    <tr>\n      <th>1</th>\n      <td>2</td>\n      <td>1.02</td>\n      <td>0.95</td>\n      <td>0.423079</td>\n      <td>1.147268</td>\n    </tr>\n    <tr>\n      <th>2</th>\n      <td>3</td>\n      <td>1.06</td>\n      <td>0.92</td>\n      <td>0.389864</td>\n      <td>1.125863</td>\n    </tr>\n    <tr>\n      <th>3</th>\n      <td>4</td>\n      <td>1.18</td>\n      <td>1.28</td>\n      <td>0.280254</td>\n      <td>1.154111</td>\n    </tr>\n    <tr>\n      <th>4</th>\n      <td>5</td>\n      <td>0.89</td>\n      <td>0.96</td>\n      <td>0.146713</td>\n      <td>1.096795</td>\n    </tr>\n    <tr>\n      <th>5</th>\n      <td>6</td>\n      <td>1.02</td>\n      <td>0.96</td>\n      <td>0.263464</td>\n      <td>1.090337</td>\n    </tr>\n    <tr>\n      <th>6</th>\n      <td>7</td>\n      <td>0.89</td>\n      <td>0.97</td>\n      <td>0.381180</td>\n      <td>1.113647</td>\n    </tr>\n    <tr>\n      <th>7</th>\n      <td>8</td>\n      <td>1.21</td>\n      <td>1.12</td>\n      <td>0.360351</td>\n      <td>1.173611</td>\n    </tr>\n    <tr>\n      <th>8</th>\n      <td>9</td>\n      <td>1.14</td>\n      <td>1.11</td>\n      <td>0.292207</td>\n      <td>1.133816</td>\n    </tr>\n    <tr>\n      <th>9</th>\n      <td>10</td>\n      <td>0.97</td>\n      <td>1.02</td>\n      <td>0.407108</td>\n      <td>1.141411</td>\n    </tr>\n    <tr>\n      <th>10</th>\n      <td>11</td>\n      <td>1.25</td>\n      <td>1.19</td>\n      <td>0.204433</td>\n      <td>1.085768</td>\n    </tr>\n    <tr>\n      <th>11</th>\n      <td>13</td>\n      <td>1.15</td>\n      <td>1.13</td>\n      <td>0.482587</td>\n      <td>1.170121</td>\n    </tr>\n    <tr>\n      <th>12</th>\n      <td>14</td>\n      <td>1.12</td>\n      <td>1.15</td>\n      <td>0.223130</td>\n      <td>1.110500</td>\n    </tr>\n    <tr>\n      <th>13</th>\n      <td>15</td>\n      <td>1.11</td>\n      <td>1.14</td>\n      <td>0.376250</td>\n      <td>1.194511</td>\n    </tr>\n    <tr>\n      <th>14</th>\n      <td>16</td>\n      <td>1.04</td>\n      <td>1.18</td>\n      <td>0.466562</td>\n      <td>1.169326</td>\n    </tr>\n    <tr>\n      <th>15</th>\n      <td>17</td>\n      <td>1.13</td>\n      <td>1.22</td>\n      <td>0.410243</td>\n      <td>1.140358</td>\n    </tr>\n    <tr>\n      <th>16</th>\n      <td>18</td>\n      <td>0.88</td>\n      <td>0.96</td>\n      <td>0.485426</td>\n      <td>1.163489</td>\n    </tr>\n    <tr>\n      <th>17</th>\n      <td>19</td>\n      <td>0.91</td>\n      <td>0.95</td>\n      <td>0.485247</td>\n      <td>1.174111</td>\n    </tr>\n    <tr>\n      <th>18</th>\n      <td>20</td>\n      <td>0.91</td>\n      <td>0.91</td>\n      <td>0.569973</td>\n      <td>1.183558</td>\n    </tr>\n  </tbody>\n</table>\n</div>"
     },
     "execution_count": 6,
     "metadata": {},
     "output_type": "execute_result"
    }
   ],
   "source": [
    "ds"
   ],
   "metadata": {
    "collapsed": false
   }
  },
  {
   "cell_type": "code",
   "execution_count": 8,
   "outputs": [
    {
     "data": {
      "text/plain": "<Figure size 720x504 with 1 Axes>",
      "image/png": "[encoded data removed]"
     },
     "metadata": {
      "needs_background": "light"
     },
     "output_type": "display_data"
    }
   ],
   "source": [
    "x = ds.max_strain.values\n",
    "y = ds.max_stress.values\n",
    "fig, ax = plt.subplots(figsize=(10, 7));\n",
    "ax.scatter(x, y)\n",
    "plt.xlabel('Strain')\n",
    "plt.ylabel('Stress MPa')\n",
    "plt.show()"
   ],
   "metadata": {
    "collapsed": false
   }
  },
  {
   "cell_type": "code",
   "execution_count": null,
   "outputs": [],
   "source": [
    "|"
   ],
   "metadata": {
    "collapsed": false
   }
  }
 ],
 "metadata": {
  "kernelspec": {
   "display_name": "Python 3",
   "language": "python",
   "name": "python3"
  },
  "language_info": {
   "codemirror_mode": {
    "name": "ipython",
    "version": 2
   },
   "file_extension": ".py",
   "mimetype": "text/x-python",
   "name": "python",
   "nbconvert_exporter": "python",
   "pygments_lexer": "ipython2",
   "version": "2.7.6"
  }
 },
 "nbformat": 4,
 "nbformat_minor": 0
}
